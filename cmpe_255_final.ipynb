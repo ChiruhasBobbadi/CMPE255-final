{
  "nbformat": 4,
  "nbformat_minor": 0,
  "metadata": {
    "colab": {
      "provenance": [],
      "collapsed_sections": [
        "k47EpU7Dz39w",
        "3uwX5up10scQ",
        "JGc-4uqy1J5P",
        "0vCRgx4Z2G8R",
        "uhBICX003ANT",
        "Kjd8MmDP3TuW",
        "qbQ-oO5g3szR",
        "ht2f615V3uj0",
        "I8NAk4vy3ueX",
        "f3tE_Fc244Dw",
        "NQZoBmjy8-Co",
        "_1lITI01-zbK"
      ]
    },
    "kernelspec": {
      "name": "python3",
      "display_name": "Python 3"
    },
    "language_info": {
      "name": "python"
    }
  },
  "cells": [
    {
      "cell_type": "markdown",
      "source": [
        "# Getting Started"
      ],
      "metadata": {
        "id": "khhzd_TPz88w"
      }
    },
    {
      "cell_type": "markdown",
      "source": [
        "Variable Definition"
      ],
      "metadata": {
        "id": "xUgrUF4Ew7op"
      }
    },
    {
      "cell_type": "code",
      "execution_count": 1,
      "metadata": {
        "id": "6EguS52QwFT4"
      },
      "outputs": [],
      "source": [
        "# User_ID\tUser ID\n",
        "# Product_ID\tProduct ID\n",
        "# Gender\tSex of User\n",
        "# Age\tAge in bins\n",
        "# Occupation\tOccupation (Masked)\n",
        "# City_Category\tCategory of the City (A,B,C)\n",
        "# Stay_In_Current_City_Years\tNumber of years stay in current city\n",
        "# Marital_Status\tMarital Status\n",
        "# Product_Category_1\tProduct Category (Masked)\n",
        "# Product_Category_2\tProduct may belongs to other category also (Masked)\n",
        "# Product_Category_3\tProduct may belongs to other category also (Masked)\n",
        "# Purchase\tPurchase Amount (Target Variable)\n"
      ]
    },
    {
      "cell_type": "markdown",
      "source": [
        "Importing Libraries\n",
        "\n",
        "\n",
        "\n"
      ],
      "metadata": {
        "id": "T5uGzU3TxGkD"
      }
    },
    {
      "cell_type": "code",
      "source": [
        "\n",
        "import numpy as np\n",
        "import pandas as pd\n",
        "import matplotlib.pyplot as plt\n",
        "import seaborn as sns\n",
        "\n"
      ],
      "metadata": {
        "id": "sNO1I8yvxNPo"
      },
      "execution_count": 2,
      "outputs": []
    },
    {
      "cell_type": "markdown",
      "source": [
        "Loading data"
      ],
      "metadata": {
        "id": "_YmLW5IdxSpG"
      }
    },
    {
      "cell_type": "code",
      "source": [
        "\n",
        "data_set = pd.read_csv(\"https://raw.githubusercontent.com/ChiruhasBobbadi/CMPE255-final/main/DataSet/BlackFridaySales.csv\")"
      ],
      "metadata": {
        "id": "o5z8NnxmxGPq"
      },
      "execution_count": 3,
      "outputs": []
    },
    {
      "cell_type": "markdown",
      "source": [
        "Exploring Data\n"
      ],
      "metadata": {
        "id": "he2EAkPQxbyH"
      }
    },
    {
      "cell_type": "code",
      "source": [
        "\n",
        "data_set.head()"
      ],
      "metadata": {
        "colab": {
          "base_uri": "https://localhost:8080/",
          "height": 340
        },
        "id": "7ioO6VV-xexF",
        "outputId": "68617feb-ffce-49f9-de83-ff0cfa518477"
      },
      "execution_count": 4,
      "outputs": [
        {
          "output_type": "execute_result",
          "data": {
            "text/plain": [
              "   User_ID Product_ID Gender   Age  Occupation City_Category  \\\n",
              "0  1000001  P00069042      F  0-17          10             A   \n",
              "1  1000001  P00248942      F  0-17          10             A   \n",
              "2  1000001  P00087842      F  0-17          10             A   \n",
              "3  1000001  P00085442      F  0-17          10             A   \n",
              "4  1000002  P00285442      M   55+          16             C   \n",
              "\n",
              "  Stay_In_Current_City_Years  Marital_Status  Product_Category_1  \\\n",
              "0                          2               0                   3   \n",
              "1                          2               0                   1   \n",
              "2                          2               0                  12   \n",
              "3                          2               0                  12   \n",
              "4                         4+               0                   8   \n",
              "\n",
              "   Product_Category_2  Product_Category_3  Purchase  \n",
              "0                 NaN                 NaN      8370  \n",
              "1                 6.0                14.0     15200  \n",
              "2                 NaN                 NaN      1422  \n",
              "3                14.0                 NaN      1057  \n",
              "4                 NaN                 NaN      7969  "
            ],
            "text/html": [
              "\n",
              "  <div id=\"df-026810ab-fbeb-4144-ac75-7141f9a6d48f\">\n",
              "    <div class=\"colab-df-container\">\n",
              "      <div>\n",
              "<style scoped>\n",
              "    .dataframe tbody tr th:only-of-type {\n",
              "        vertical-align: middle;\n",
              "    }\n",
              "\n",
              "    .dataframe tbody tr th {\n",
              "        vertical-align: top;\n",
              "    }\n",
              "\n",
              "    .dataframe thead th {\n",
              "        text-align: right;\n",
              "    }\n",
              "</style>\n",
              "<table border=\"1\" class=\"dataframe\">\n",
              "  <thead>\n",
              "    <tr style=\"text-align: right;\">\n",
              "      <th></th>\n",
              "      <th>User_ID</th>\n",
              "      <th>Product_ID</th>\n",
              "      <th>Gender</th>\n",
              "      <th>Age</th>\n",
              "      <th>Occupation</th>\n",
              "      <th>City_Category</th>\n",
              "      <th>Stay_In_Current_City_Years</th>\n",
              "      <th>Marital_Status</th>\n",
              "      <th>Product_Category_1</th>\n",
              "      <th>Product_Category_2</th>\n",
              "      <th>Product_Category_3</th>\n",
              "      <th>Purchase</th>\n",
              "    </tr>\n",
              "  </thead>\n",
              "  <tbody>\n",
              "    <tr>\n",
              "      <th>0</th>\n",
              "      <td>1000001</td>\n",
              "      <td>P00069042</td>\n",
              "      <td>F</td>\n",
              "      <td>0-17</td>\n",
              "      <td>10</td>\n",
              "      <td>A</td>\n",
              "      <td>2</td>\n",
              "      <td>0</td>\n",
              "      <td>3</td>\n",
              "      <td>NaN</td>\n",
              "      <td>NaN</td>\n",
              "      <td>8370</td>\n",
              "    </tr>\n",
              "    <tr>\n",
              "      <th>1</th>\n",
              "      <td>1000001</td>\n",
              "      <td>P00248942</td>\n",
              "      <td>F</td>\n",
              "      <td>0-17</td>\n",
              "      <td>10</td>\n",
              "      <td>A</td>\n",
              "      <td>2</td>\n",
              "      <td>0</td>\n",
              "      <td>1</td>\n",
              "      <td>6.0</td>\n",
              "      <td>14.0</td>\n",
              "      <td>15200</td>\n",
              "    </tr>\n",
              "    <tr>\n",
              "      <th>2</th>\n",
              "      <td>1000001</td>\n",
              "      <td>P00087842</td>\n",
              "      <td>F</td>\n",
              "      <td>0-17</td>\n",
              "      <td>10</td>\n",
              "      <td>A</td>\n",
              "      <td>2</td>\n",
              "      <td>0</td>\n",
              "      <td>12</td>\n",
              "      <td>NaN</td>\n",
              "      <td>NaN</td>\n",
              "      <td>1422</td>\n",
              "    </tr>\n",
              "    <tr>\n",
              "      <th>3</th>\n",
              "      <td>1000001</td>\n",
              "      <td>P00085442</td>\n",
              "      <td>F</td>\n",
              "      <td>0-17</td>\n",
              "      <td>10</td>\n",
              "      <td>A</td>\n",
              "      <td>2</td>\n",
              "      <td>0</td>\n",
              "      <td>12</td>\n",
              "      <td>14.0</td>\n",
              "      <td>NaN</td>\n",
              "      <td>1057</td>\n",
              "    </tr>\n",
              "    <tr>\n",
              "      <th>4</th>\n",
              "      <td>1000002</td>\n",
              "      <td>P00285442</td>\n",
              "      <td>M</td>\n",
              "      <td>55+</td>\n",
              "      <td>16</td>\n",
              "      <td>C</td>\n",
              "      <td>4+</td>\n",
              "      <td>0</td>\n",
              "      <td>8</td>\n",
              "      <td>NaN</td>\n",
              "      <td>NaN</td>\n",
              "      <td>7969</td>\n",
              "    </tr>\n",
              "  </tbody>\n",
              "</table>\n",
              "</div>\n",
              "      <button class=\"colab-df-convert\" onclick=\"convertToInteractive('df-026810ab-fbeb-4144-ac75-7141f9a6d48f')\"\n",
              "              title=\"Convert this dataframe to an interactive table.\"\n",
              "              style=\"display:none;\">\n",
              "        \n",
              "  <svg xmlns=\"http://www.w3.org/2000/svg\" height=\"24px\"viewBox=\"0 0 24 24\"\n",
              "       width=\"24px\">\n",
              "    <path d=\"M0 0h24v24H0V0z\" fill=\"none\"/>\n",
              "    <path d=\"M18.56 5.44l.94 2.06.94-2.06 2.06-.94-2.06-.94-.94-2.06-.94 2.06-2.06.94zm-11 1L8.5 8.5l.94-2.06 2.06-.94-2.06-.94L8.5 2.5l-.94 2.06-2.06.94zm10 10l.94 2.06.94-2.06 2.06-.94-2.06-.94-.94-2.06-.94 2.06-2.06.94z\"/><path d=\"M17.41 7.96l-1.37-1.37c-.4-.4-.92-.59-1.43-.59-.52 0-1.04.2-1.43.59L10.3 9.45l-7.72 7.72c-.78.78-.78 2.05 0 2.83L4 21.41c.39.39.9.59 1.41.59.51 0 1.02-.2 1.41-.59l7.78-7.78 2.81-2.81c.8-.78.8-2.07 0-2.86zM5.41 20L4 18.59l7.72-7.72 1.47 1.35L5.41 20z\"/>\n",
              "  </svg>\n",
              "      </button>\n",
              "      \n",
              "  <style>\n",
              "    .colab-df-container {\n",
              "      display:flex;\n",
              "      flex-wrap:wrap;\n",
              "      gap: 12px;\n",
              "    }\n",
              "\n",
              "    .colab-df-convert {\n",
              "      background-color: #E8F0FE;\n",
              "      border: none;\n",
              "      border-radius: 50%;\n",
              "      cursor: pointer;\n",
              "      display: none;\n",
              "      fill: #1967D2;\n",
              "      height: 32px;\n",
              "      padding: 0 0 0 0;\n",
              "      width: 32px;\n",
              "    }\n",
              "\n",
              "    .colab-df-convert:hover {\n",
              "      background-color: #E2EBFA;\n",
              "      box-shadow: 0px 1px 2px rgba(60, 64, 67, 0.3), 0px 1px 3px 1px rgba(60, 64, 67, 0.15);\n",
              "      fill: #174EA6;\n",
              "    }\n",
              "\n",
              "    [theme=dark] .colab-df-convert {\n",
              "      background-color: #3B4455;\n",
              "      fill: #D2E3FC;\n",
              "    }\n",
              "\n",
              "    [theme=dark] .colab-df-convert:hover {\n",
              "      background-color: #434B5C;\n",
              "      box-shadow: 0px 1px 3px 1px rgba(0, 0, 0, 0.15);\n",
              "      filter: drop-shadow(0px 1px 2px rgba(0, 0, 0, 0.3));\n",
              "      fill: #FFFFFF;\n",
              "    }\n",
              "  </style>\n",
              "\n",
              "      <script>\n",
              "        const buttonEl =\n",
              "          document.querySelector('#df-026810ab-fbeb-4144-ac75-7141f9a6d48f button.colab-df-convert');\n",
              "        buttonEl.style.display =\n",
              "          google.colab.kernel.accessAllowed ? 'block' : 'none';\n",
              "\n",
              "        async function convertToInteractive(key) {\n",
              "          const element = document.querySelector('#df-026810ab-fbeb-4144-ac75-7141f9a6d48f');\n",
              "          const dataTable =\n",
              "            await google.colab.kernel.invokeFunction('convertToInteractive',\n",
              "                                                     [key], {});\n",
              "          if (!dataTable) return;\n",
              "\n",
              "          const docLinkHtml = 'Like what you see? Visit the ' +\n",
              "            '<a target=\"_blank\" href=https://colab.research.google.com/notebooks/data_table.ipynb>data table notebook</a>'\n",
              "            + ' to learn more about interactive tables.';\n",
              "          element.innerHTML = '';\n",
              "          dataTable['output_type'] = 'display_data';\n",
              "          await google.colab.output.renderOutput(dataTable, element);\n",
              "          const docLink = document.createElement('div');\n",
              "          docLink.innerHTML = docLinkHtml;\n",
              "          element.appendChild(docLink);\n",
              "        }\n",
              "      </script>\n",
              "    </div>\n",
              "  </div>\n",
              "  "
            ]
          },
          "metadata": {},
          "execution_count": 4
        }
      ]
    },
    {
      "cell_type": "code",
      "source": [
        "data_set.shape"
      ],
      "metadata": {
        "colab": {
          "base_uri": "https://localhost:8080/"
        },
        "id": "2925ccPgxnj3",
        "outputId": "12549aee-fb35-4bea-f25d-ed18a44f6974"
      },
      "execution_count": 5,
      "outputs": [
        {
          "output_type": "execute_result",
          "data": {
            "text/plain": [
              "(550068, 12)"
            ]
          },
          "metadata": {},
          "execution_count": 5
        }
      ]
    },
    {
      "cell_type": "code",
      "source": [
        "data_set.info()"
      ],
      "metadata": {
        "colab": {
          "base_uri": "https://localhost:8080/"
        },
        "id": "H7SoEBgkxxKG",
        "outputId": "7dfd8095-bf78-4c90-8112-1ecfdb32fcac"
      },
      "execution_count": 6,
      "outputs": [
        {
          "output_type": "stream",
          "name": "stdout",
          "text": [
            "<class 'pandas.core.frame.DataFrame'>\n",
            "RangeIndex: 550068 entries, 0 to 550067\n",
            "Data columns (total 12 columns):\n",
            " #   Column                      Non-Null Count   Dtype  \n",
            "---  ------                      --------------   -----  \n",
            " 0   User_ID                     550068 non-null  int64  \n",
            " 1   Product_ID                  550068 non-null  object \n",
            " 2   Gender                      550068 non-null  object \n",
            " 3   Age                         550068 non-null  object \n",
            " 4   Occupation                  550068 non-null  int64  \n",
            " 5   City_Category               550068 non-null  object \n",
            " 6   Stay_In_Current_City_Years  550068 non-null  object \n",
            " 7   Marital_Status              550068 non-null  int64  \n",
            " 8   Product_Category_1          550068 non-null  int64  \n",
            " 9   Product_Category_2          376430 non-null  float64\n",
            " 10  Product_Category_3          166821 non-null  float64\n",
            " 11  Purchase                    550068 non-null  int64  \n",
            "dtypes: float64(2), int64(5), object(5)\n",
            "memory usage: 50.4+ MB\n"
          ]
        }
      ]
    },
    {
      "cell_type": "markdown",
      "source": [
        "# Data preprocessing\n"
      ],
      "metadata": {
        "id": "3pSyf_zIx8uA"
      }
    },
    {
      "cell_type": "markdown",
      "source": [
        "Checking Null Values\n"
      ],
      "metadata": {
        "id": "XGaxtgXHyCKZ"
      }
    },
    {
      "cell_type": "code",
      "source": [
        "data_set.isnull().sum()"
      ],
      "metadata": {
        "colab": {
          "base_uri": "https://localhost:8080/"
        },
        "id": "cEZwiH0FyL2I",
        "outputId": "45ad8120-584a-4339-b7b8-6d24b915a335"
      },
      "execution_count": 7,
      "outputs": [
        {
          "output_type": "execute_result",
          "data": {
            "text/plain": [
              "User_ID                            0\n",
              "Product_ID                         0\n",
              "Gender                             0\n",
              "Age                                0\n",
              "Occupation                         0\n",
              "City_Category                      0\n",
              "Stay_In_Current_City_Years         0\n",
              "Marital_Status                     0\n",
              "Product_Category_1                 0\n",
              "Product_Category_2            173638\n",
              "Product_Category_3            383247\n",
              "Purchase                           0\n",
              "dtype: int64"
            ]
          },
          "metadata": {},
          "execution_count": 7
        }
      ]
    },
    {
      "cell_type": "markdown",
      "source": [
        "Percentage of null values in every fields\n"
      ],
      "metadata": {
        "id": "yjdLikUsyUtr"
      }
    },
    {
      "cell_type": "code",
      "source": [
        "data_set.isnull().sum()/data_set.shape[0]*100"
      ],
      "metadata": {
        "colab": {
          "base_uri": "https://localhost:8080/"
        },
        "id": "h-BlUuuTyUhG",
        "outputId": "f55541f6-0481-4918-eeac-a506c72eae1f"
      },
      "execution_count": 8,
      "outputs": [
        {
          "output_type": "execute_result",
          "data": {
            "text/plain": [
              "User_ID                        0.000000\n",
              "Product_ID                     0.000000\n",
              "Gender                         0.000000\n",
              "Age                            0.000000\n",
              "Occupation                     0.000000\n",
              "City_Category                  0.000000\n",
              "Stay_In_Current_City_Years     0.000000\n",
              "Marital_Status                 0.000000\n",
              "Product_Category_1             0.000000\n",
              "Product_Category_2            31.566643\n",
              "Product_Category_3            69.672659\n",
              "Purchase                       0.000000\n",
              "dtype: float64"
            ]
          },
          "metadata": {},
          "execution_count": 8
        }
      ]
    },
    {
      "cell_type": "markdown",
      "source": [
        "Unique elements in each attributes\n"
      ],
      "metadata": {
        "id": "slFLc0G9y3Lv"
      }
    },
    {
      "cell_type": "code",
      "source": [
        "data_set.nunique()\n"
      ],
      "metadata": {
        "colab": {
          "base_uri": "https://localhost:8080/"
        },
        "id": "_jQJHlTgy7A8",
        "outputId": "6de64742-0c04-4233-d443-c3d812f30d15"
      },
      "execution_count": 9,
      "outputs": [
        {
          "output_type": "execute_result",
          "data": {
            "text/plain": [
              "User_ID                        5891\n",
              "Product_ID                     3631\n",
              "Gender                            2\n",
              "Age                               7\n",
              "Occupation                       21\n",
              "City_Category                     3\n",
              "Stay_In_Current_City_Years        5\n",
              "Marital_Status                    2\n",
              "Product_Category_1               20\n",
              "Product_Category_2               17\n",
              "Product_Category_3               15\n",
              "Purchase                      18105\n",
              "dtype: int64"
            ]
          },
          "metadata": {},
          "execution_count": 9
        }
      ]
    },
    {
      "cell_type": "markdown",
      "source": [
        "# Exploratory Data Analysis"
      ],
      "metadata": {
        "id": "wU-0zj09zZRx"
      }
    },
    {
      "cell_type": "markdown",
      "source": [
        "## Purchase"
      ],
      "metadata": {
        "id": "k47EpU7Dz39w"
      }
    },
    {
      "cell_type": "code",
      "source": [
        "sns.distplot(data_set[\"Purchase\"],color='b')\n",
        "plt.title(\"Purchase Distribution\")\n",
        "plt.show()\n",
        "plt.savefig(\"/content/1.svg\")"
      ],
      "metadata": {
        "colab": {
          "base_uri": "https://localhost:8080/",
          "height": 369
        },
        "id": "GxXKP3kNzoRp",
        "outputId": "d9be7062-bf9d-42f2-b72f-240156f55166"
      },
      "execution_count": 10,
      "outputs": [
        {
          "output_type": "stream",
          "name": "stderr",
          "text": [
            "/usr/local/lib/python3.8/dist-packages/seaborn/distributions.py:2619: FutureWarning: `distplot` is a deprecated function and will be removed in a future version. Please adapt your code to use either `displot` (a figure-level function with similar flexibility) or `histplot` (an axes-level function for histograms).\n",
            "  warnings.warn(msg, FutureWarning)\n"
          ]
        },
        {
          "output_type": "display_data",
          "data": {
            "text/plain": [
              "<Figure size 432x288 with 1 Axes>"
            ],
            "image/png": "[encoded data removed]"
          },
          "metadata": {
            "needs_background": "light"
          }
        },
        {
          "output_type": "display_data",
          "data": {
            "text/plain": [
              "<Figure size 432x288 with 0 Axes>"
            ]
          },
          "metadata": {}
        }
      ]
    },
    {
      "cell_type": "markdown",
      "source": [
        "We can see that a lot of clients make repeated purchases in the same quantity. This might be due to the fact that during Black Friday, many people make large-scale purchases of discounted goods, which kind of follows a Gaussian Distribution."
      ],
      "metadata": {
        "id": "GHTXivVs0Unh"
      }
    },
    {
      "cell_type": "code",
      "source": [
        "data[\"Purchase\"].skew()\n"
      ],
      "metadata": {
        "id": "PxwwMpZy0G3w",
        "colab": {
          "base_uri": "https://localhost:8080/",
          "height": 169
        },
        "outputId": "3a66bbfe-b8a2-4e7f-c218-14f50ab99b67"
      },
      "execution_count": 11,
      "outputs": [
        {
          "output_type": "error",
          "ename": "NameError",
          "evalue": "ignored",
          "traceback": [
            "\u001b[0;31m---------------------------------------------------------------------------\u001b[0m",
            "\u001b[0;31mNameError\u001b[0m                                 Traceback (most recent call last)",
            "\u001b[0;32m<ipython-input-11-5618cbd71904>\u001b[0m in \u001b[0;36m<module>\u001b[0;34m\u001b[0m\n\u001b[0;32m----> 1\u001b[0;31m \u001b[0mdata\u001b[0m\u001b[0;34m[\u001b[0m\u001b[0;34m\"Purchase\"\u001b[0m\u001b[0;34m]\u001b[0m\u001b[0;34m.\u001b[0m\u001b[0mskew\u001b[0m\u001b[0;34m(\u001b[0m\u001b[0;34m)\u001b[0m\u001b[0;34m\u001b[0m\u001b[0;34m\u001b[0m\u001b[0m\n\u001b[0m",
            "\u001b[0;31mNameError\u001b[0m: name 'data' is not defined"
          ]
        }
      ]
    },
    {
      "cell_type": "code",
      "source": [
        "data[\"Purchase\"].kurtosis()"
      ],
      "metadata": {
        "id": "NEDkywm40Hxw"
      },
      "execution_count": null,
      "outputs": []
    },
    {
      "cell_type": "code",
      "source": [
        "data[\"Purchase\"].describe()"
      ],
      "metadata": {
        "id": "1noAcM6i0Lwx"
      },
      "execution_count": null,
      "outputs": []
    },
    {
      "cell_type": "markdown",
      "source": [
        "## Gender"
      ],
      "metadata": {
        "id": "3uwX5up10scQ"
      }
    },
    {
      "cell_type": "code",
      "source": [
        "sns.countplot(data['Gender'])\n",
        "plt.show()\n",
        "plt.savefig(\"/content/2.svg\")"
      ],
      "metadata": {
        "id": "tNauqvsr0uCb"
      },
      "execution_count": null,
      "outputs": []
    },
    {
      "cell_type": "code",
      "source": [
        "data['Gender'].value_counts(normalize=True)*100"
      ],
      "metadata": {
        "id": "YI8gIjbR0z1A"
      },
      "execution_count": null,
      "outputs": []
    },
    {
      "cell_type": "code",
      "source": [
        "data.groupby(\"Gender\").mean()[\"Purchase\"]\n"
      ],
      "metadata": {
        "id": "RxtLpZCr02V9"
      },
      "execution_count": null,
      "outputs": []
    },
    {
      "cell_type": "markdown",
      "source": [
        "## Marital Status"
      ],
      "metadata": {
        "id": "JGc-4uqy1J5P"
      }
    },
    {
      "cell_type": "code",
      "source": [
        "sns.countplot(data['Marital_Status'])\n",
        "plt.show()\n",
        "plt.savefig(\"/content/3.svg\")"
      ],
      "metadata": {
        "id": "PaIgyrG_1LXK"
      },
      "execution_count": null,
      "outputs": []
    },
    {
      "cell_type": "code",
      "source": [
        "data.groupby(\"Marital_Status\").mean()[\"Purchase\"]\n"
      ],
      "metadata": {
        "id": "VSeyYIoG1P7f"
      },
      "execution_count": null,
      "outputs": []
    },
    {
      "cell_type": "code",
      "source": [
        "data.groupby(\"Marital_Status\").mean()[\"Purchase\"].plot(kind='bar')\n",
        "plt.title(\"Marital_Status and Purchase Analysis\")\n",
        "plt.show()\n"
      ],
      "metadata": {
        "id": "oYH07FSP1RwH"
      },
      "execution_count": null,
      "outputs": []
    },
    {
      "cell_type": "markdown",
      "source": [
        "## City_Category\n"
      ],
      "metadata": {
        "id": "0vCRgx4Z2G8R"
      }
    },
    {
      "cell_type": "code",
      "source": [
        "sns.countplot(data['City_Category'])\n",
        "plt.show()\n",
        "plt.savefig(\"/content/4.svg\")"
      ],
      "metadata": {
        "id": "COsqh4Ej2K38"
      },
      "execution_count": null,
      "outputs": []
    },
    {
      "cell_type": "code",
      "source": [
        "\n",
        "data.groupby(\"City_Category\").mean()[\"Purchase\"].plot(kind='bar')\n",
        "plt.title(\"City Category vs Purchase Analysis\")\n",
        "plt.show()\n"
      ],
      "metadata": {
        "id": "v2wK6e9521pd"
      },
      "execution_count": null,
      "outputs": []
    },
    {
      "cell_type": "markdown",
      "source": [
        "## Stay_In_Current_City_Years"
      ],
      "metadata": {
        "id": "uhBICX003ANT"
      }
    },
    {
      "cell_type": "code",
      "source": [
        "sns.countplot(data['Stay_In_Current_City_Years'])\n",
        "plt.show()\n",
        "plt.savefig(\"/content/5.svg\")"
      ],
      "metadata": {
        "id": "S3F7XWi42_43"
      },
      "execution_count": null,
      "outputs": []
    },
    {
      "cell_type": "markdown",
      "source": [
        "## Age"
      ],
      "metadata": {
        "id": "Kjd8MmDP3TuW"
      }
    },
    {
      "cell_type": "code",
      "source": [
        "sns.countplot(data['Age'])\n",
        "plt.title('Distribution of Age')\n",
        "plt.xlabel('Different Categories of Age')\n",
        "plt.show()\n",
        "plt.savefig(\"/content/6.svg\")"
      ],
      "metadata": {
        "id": "sXAUF9bp3XeR"
      },
      "execution_count": null,
      "outputs": []
    },
    {
      "cell_type": "markdown",
      "source": [
        "## Product_Category_1"
      ],
      "metadata": {
        "id": "qbQ-oO5g3szR"
      }
    },
    {
      "cell_type": "code",
      "source": [
        "\n",
        "plt.figure(figsize=(18,5))\n",
        "sns.countplot(data['Product_Category_1'])\n",
        "plt.show()\n"
      ],
      "metadata": {
        "id": "DaqnqVaP3txd"
      },
      "execution_count": null,
      "outputs": []
    },
    {
      "cell_type": "markdown",
      "source": [
        "It is clear that Product_Category_1 numbers 1,5 and 8 have more number of fields. But we don't know which product they correspond to."
      ],
      "metadata": {
        "id": "S4QsFYPo3uoo"
      }
    },
    {
      "cell_type": "markdown",
      "source": [
        "## Product_Category_2"
      ],
      "metadata": {
        "id": "ht2f615V3uj0"
      }
    },
    {
      "cell_type": "code",
      "source": [
        "plt.figure(figsize=(18,5))\n",
        "sns.countplot(data['Product_Category_2'])\n",
        "plt.show()\n"
      ],
      "metadata": {
        "id": "93dqrs3f4CmI"
      },
      "execution_count": null,
      "outputs": []
    },
    {
      "cell_type": "markdown",
      "source": [
        "## Product_Category_3"
      ],
      "metadata": {
        "id": "I8NAk4vy3ueX"
      }
    },
    {
      "cell_type": "code",
      "source": [
        "plt.figure(figsize=(18,5))\n",
        "sns.countplot(data['Product_Category_3'])\n",
        "plt.show()\n"
      ],
      "metadata": {
        "id": "27EoWCbU4L6k"
      },
      "execution_count": null,
      "outputs": []
    },
    {
      "cell_type": "markdown",
      "source": [
        "# HeatMap"
      ],
      "metadata": {
        "id": "sX3IlrFr3uL2"
      }
    },
    {
      "cell_type": "markdown",
      "source": [
        "HeatMap is used to explore correlation between different fields in the dataset"
      ],
      "metadata": {
        "id": "HDFU3kXY4ZaR"
      }
    },
    {
      "cell_type": "code",
      "source": [
        "sns.heatmap(data.corr(),annot=True)\n",
        "plt.show()\n",
        "plt.savefig(\"/content/heatmap.svg\")"
      ],
      "metadata": {
        "id": "TpAfv9634Ts3"
      },
      "execution_count": null,
      "outputs": []
    },
    {
      "cell_type": "markdown",
      "source": [
        "We can observe that there are fields that have correlation"
      ],
      "metadata": {
        "id": "NFntv0WX4lc_"
      }
    },
    {
      "cell_type": "code",
      "source": [
        "\n",
        "df = data.copy()"
      ],
      "metadata": {
        "id": "3CKrRWFy4wEi"
      },
      "execution_count": null,
      "outputs": []
    },
    {
      "cell_type": "markdown",
      "source": [
        "## Encoding the categorical variables"
      ],
      "metadata": {
        "id": "f3tE_Fc244Dw"
      }
    },
    {
      "cell_type": "code",
      "source": [
        "from sklearn.preprocessing import LabelEncoder\n",
        "lr = LabelEncoder()\n"
      ],
      "metadata": {
        "id": "JADMtygU-NHo"
      },
      "execution_count": null,
      "outputs": []
    },
    {
      "cell_type": "code",
      "source": [
        "\n",
        "df['Gender'] = lr.fit_transform(df['Gender'])"
      ],
      "metadata": {
        "id": "-8akzDV86AE3"
      },
      "execution_count": null,
      "outputs": []
    },
    {
      "cell_type": "code",
      "source": [
        "df['Age'] = lr.fit_transform(df['Age'])\n"
      ],
      "metadata": {
        "id": "6MruqUii6Pgo"
      },
      "execution_count": null,
      "outputs": []
    },
    {
      "cell_type": "code",
      "source": [
        "df['City_Category'] = lr.fit_transform(df['City_Category'])"
      ],
      "metadata": {
        "id": "7GZbaqth6jkK"
      },
      "execution_count": null,
      "outputs": []
    },
    {
      "cell_type": "code",
      "source": [
        "\n",
        "df['Product_Category_2'] =df['Product_Category_2'].fillna(0).astype('int64')\n",
        "df['Product_Category_3'] =df['Product_Category_3'].fillna(0).astype('int64')\n",
        "df.isnull().sum()"
      ],
      "metadata": {
        "id": "ivPlD-C36nnv"
      },
      "execution_count": null,
      "outputs": []
    },
    {
      "cell_type": "code",
      "source": [
        "df.head()\n"
      ],
      "metadata": {
        "id": "3MhEebz76Cu-"
      },
      "execution_count": null,
      "outputs": []
    },
    {
      "cell_type": "code",
      "source": [
        "df.columns"
      ],
      "metadata": {
        "id": "_V7sFe_l_De0"
      },
      "execution_count": null,
      "outputs": []
    },
    {
      "cell_type": "code",
      "source": [
        "df = df.drop([\"Stay_In_Current_City_Years\"],axis=1)\n"
      ],
      "metadata": {
        "id": "xV8C1NOa-cQX"
      },
      "execution_count": null,
      "outputs": []
    },
    {
      "cell_type": "markdown",
      "source": [
        "# Splitting data into independent and dependent variables"
      ],
      "metadata": {
        "id": "V1m9gQiG7h4u"
      }
    },
    {
      "cell_type": "code",
      "source": [
        "X = df.drop(\"Purchase\",axis=1)"
      ],
      "metadata": {
        "id": "op2myGJq7kS0"
      },
      "execution_count": null,
      "outputs": []
    },
    {
      "cell_type": "code",
      "source": [
        "\n",
        "y=df['Purchase']"
      ],
      "metadata": {
        "id": "kAPgcUoe7sh9"
      },
      "execution_count": null,
      "outputs": []
    },
    {
      "cell_type": "code",
      "source": [
        "from sklearn.model_selection import train_test_split\n",
        "X_train, X_test, y_train, y_test = train_test_split(X, y, test_size=0.3, random_state=123)\n",
        "\n",
        "\n",
        "\n"
      ],
      "metadata": {
        "id": "fd4Srl5y7wUS"
      },
      "execution_count": null,
      "outputs": []
    },
    {
      "cell_type": "code",
      "source": [
        "y_train"
      ],
      "metadata": {
        "id": "IAWHJXUjLr6m"
      },
      "execution_count": null,
      "outputs": []
    },
    {
      "cell_type": "code",
      "source": [
        "y_test"
      ],
      "metadata": {
        "id": "nkP6O2A2Ihb9"
      },
      "execution_count": null,
      "outputs": []
    },
    {
      "cell_type": "markdown",
      "source": [
        "# Regression Models"
      ],
      "metadata": {
        "id": "IorB3VTQ8ASy"
      }
    },
    {
      "cell_type": "markdown",
      "source": [
        "## Linear Regression"
      ],
      "metadata": {
        "id": "BajhgnX88FP1"
      }
    },
    {
      "cell_type": "code",
      "source": [
        "from sklearn.linear_model import LinearRegression\n",
        "\n"
      ],
      "metadata": {
        "id": "zOh-LSBY8MW3"
      },
      "execution_count": null,
      "outputs": []
    },
    {
      "cell_type": "code",
      "source": [
        "lr = LinearRegression()\n",
        "lr.fit(X_train,y_train)"
      ],
      "metadata": {
        "id": "7MhP5wB98Ot_"
      },
      "execution_count": null,
      "outputs": []
    },
    {
      "cell_type": "code",
      "source": [
        "lr.intercept_"
      ],
      "metadata": {
        "id": "HbfV9xS7_ok4"
      },
      "execution_count": null,
      "outputs": []
    },
    {
      "cell_type": "code",
      "source": [
        "\n",
        "lr.coef_"
      ],
      "metadata": {
        "id": "Y0dSGamX_pLO"
      },
      "execution_count": null,
      "outputs": []
    },
    {
      "cell_type": "code",
      "source": [
        "y_pred = lr.predict(X_test)"
      ],
      "metadata": {
        "id": "tcDqZTMH_trx"
      },
      "execution_count": null,
      "outputs": []
    },
    {
      "cell_type": "code",
      "source": [
        "y_pred.info()"
      ],
      "metadata": {
        "id": "yvUfN1laKIM3"
      },
      "execution_count": null,
      "outputs": []
    },
    {
      "cell_type": "code",
      "source": [
        "from sklearn.metrics import mean_absolute_error,mean_squared_error, r2_score\n"
      ],
      "metadata": {
        "id": "rJpFtKAu_xJN"
      },
      "execution_count": null,
      "outputs": []
    },
    {
      "cell_type": "code",
      "source": [
        "\n",
        "mean_absolute_error(y_test, y_pred)"
      ],
      "metadata": {
        "id": "mhG813-0_xEy"
      },
      "execution_count": null,
      "outputs": []
    },
    {
      "cell_type": "code",
      "source": [
        "\n",
        "mean_squared_error(y_test, y_pred)"
      ],
      "metadata": {
        "id": "ABRbvYIb_w8u"
      },
      "execution_count": null,
      "outputs": []
    },
    {
      "cell_type": "code",
      "source": [
        "\n",
        "r2_score(y_test, y_pred)"
      ],
      "metadata": {
        "id": "lTKW_sDp_2sJ"
      },
      "execution_count": null,
      "outputs": []
    },
    {
      "cell_type": "code",
      "source": [
        "\n",
        "from math import sqrt\n",
        "print(\"RMSE of Linear Regression Model is \",sqrt(mean_squared_error(y_test, y_pred)))"
      ],
      "metadata": {
        "id": "zQdkhhrt_5GF"
      },
      "execution_count": null,
      "outputs": []
    },
    {
      "cell_type": "code",
      "source": [],
      "metadata": {
        "id": "n2kQ8iIsIJB8"
      },
      "execution_count": null,
      "outputs": []
    },
    {
      "cell_type": "code",
      "source": [
        "import matplotlib as mpl\n",
        "mpl.rcParams['agg.path.chunksize'] = 10000"
      ],
      "metadata": {
        "id": "S9xBadePKW3_"
      },
      "execution_count": null,
      "outputs": []
    },
    {
      "cell_type": "code",
      "source": [
        "\n",
        "plt.scatter(y_test, y_pred,color='g')\n",
        "plt.title(\"Actual purchase vs Predicted Purchase\")\n",
        "plt.xlabel(\"Actual Purchase\")\n",
        "plt.ylabel(\"Predicted Purchase\")\n",
        "plt.show()"
      ],
      "metadata": {
        "id": "SuqhmhxgHPlB"
      },
      "execution_count": null,
      "outputs": []
    },
    {
      "cell_type": "code",
      "source": [],
      "metadata": {
        "id": "88DOALGJHPeN"
      },
      "execution_count": null,
      "outputs": []
    },
    {
      "cell_type": "markdown",
      "source": [],
      "metadata": {
        "id": "Fooh78WUOh4K"
      }
    },
    {
      "cell_type": "markdown",
      "metadata": {
        "id": "rdLxzLfvFeZJ"
      },
      "source": [
        "##  Ridge Regression"
      ]
    },
    {
      "cell_type": "code",
      "execution_count": null,
      "metadata": {
        "id": "E7AmKR53FeZJ"
      },
      "outputs": [],
      "source": [
        "from sklearn.linear_model import Lasso,Ridge"
      ]
    },
    {
      "cell_type": "code",
      "execution_count": null,
      "metadata": {
        "id": "zn40BtUoFeZK"
      },
      "outputs": [],
      "source": [
        "ridgeReg=Ridge(alpha=0.01,normalize=True)\n",
        "\n",
        "ridgeReg.fit(X_train,y_train)\n",
        "\n"
      ]
    },
    {
      "cell_type": "code",
      "source": [
        "ridgeReg.coef_\n",
        "ridgeReg.intercept_"
      ],
      "metadata": {
        "id": "C7JF7tF3OtiR"
      },
      "execution_count": null,
      "outputs": []
    },
    {
      "cell_type": "code",
      "execution_count": null,
      "metadata": {
        "id": "uVd1ChpNFeZL"
      },
      "outputs": [],
      "source": [
        "ridge_y_pred=ridgeReg.predict(X_test)"
      ]
    },
    {
      "cell_type": "code",
      "source": [
        "r2=r2_score(y_test,ridge_y_pred)\n",
        "r2"
      ],
      "metadata": {
        "id": "X2cx62VVO-GG"
      },
      "execution_count": null,
      "outputs": []
    },
    {
      "cell_type": "code",
      "execution_count": null,
      "metadata": {
        "id": "wnJmbO9JFeZL"
      },
      "outputs": [],
      "source": [
        "rmse1=np.sqrt(mean_squared_error(y_test,ridge_y_pred))\n",
        "\n",
        "\n",
        "rmse1\n"
      ]
    },
    {
      "cell_type": "code",
      "source": [
        "plt.scatter(y_test, ridge_y_pred,color='g')\n",
        "plt.title(\"Actual purchase vs Predicted Purchase\")\n",
        "plt.xlabel(\"Actual Purchase\")\n",
        "plt.ylabel(\"Predicted Purchase\")\n",
        "plt.show()"
      ],
      "metadata": {
        "id": "B-xlomBDPOWg"
      },
      "execution_count": null,
      "outputs": []
    },
    {
      "cell_type": "markdown",
      "metadata": {
        "id": "Xq0qUPVHFeZN"
      },
      "source": [
        "## Lasso Regression"
      ]
    },
    {
      "cell_type": "code",
      "execution_count": null,
      "metadata": {
        "id": "3db6TfqGFeZO"
      },
      "outputs": [],
      "source": [
        "lassoReg=Lasso(alpha=0.09,normalize=True)\n",
        "\n",
        "lassoReg.fit(X_train,y_train)\n",
        "\n"
      ]
    },
    {
      "cell_type": "code",
      "source": [
        "lassoReg.coef_"
      ],
      "metadata": {
        "id": "4VYmzD0iQGg7"
      },
      "execution_count": null,
      "outputs": []
    },
    {
      "cell_type": "code",
      "source": [
        "lassoReg.intercept_"
      ],
      "metadata": {
        "id": "oBayKihOQGaJ"
      },
      "execution_count": null,
      "outputs": []
    },
    {
      "cell_type": "code",
      "execution_count": null,
      "metadata": {
        "id": "xKY0WeNMFeZP"
      },
      "outputs": [],
      "source": [
        "lasso_y_pred=lassoReg.predict(X_test)"
      ]
    },
    {
      "cell_type": "code",
      "source": [
        "r22=r2_score(y_test,lasso_y_pred)\n",
        "r22"
      ],
      "metadata": {
        "id": "Ycgm6NlEQQoT"
      },
      "execution_count": null,
      "outputs": []
    },
    {
      "cell_type": "code",
      "execution_count": null,
      "metadata": {
        "id": "Lx9pWIu6FeZQ"
      },
      "outputs": [],
      "source": [
        "rmse2=np.sqrt(mean_squared_error(y_test,lasso_y_pred))\n",
        "rmse2"
      ]
    },
    {
      "cell_type": "code",
      "source": [
        "plt.scatter(y_test, lasso_y_pred,color='g')\n",
        "plt.title(\"Actual purchase vs Predicted Purchase\")\n",
        "plt.xlabel(\"Actual Purchase\")\n",
        "plt.ylabel(\"Predicted Purchase\")\n",
        "plt.show()\n",
        "plt.show()\n",
        "plt.show()"
      ],
      "metadata": {
        "id": "0rRU6AKSQ71J"
      },
      "execution_count": null,
      "outputs": []
    },
    {
      "cell_type": "markdown",
      "source": [
        "## DecisionTreeRegressor"
      ],
      "metadata": {
        "id": "NQZoBmjy8-Co"
      }
    },
    {
      "cell_type": "code",
      "source": [
        "from sklearn.tree import DecisionTreeRegressor\n",
        "\n",
        "# create a regressor object \n",
        "regressor = DecisionTreeRegressor(random_state = 0)  \n"
      ],
      "metadata": {
        "id": "JVhNpd95AzQN"
      },
      "execution_count": null,
      "outputs": []
    },
    {
      "cell_type": "code",
      "source": [
        "regressor.fit(X_train, y_train)\n"
      ],
      "metadata": {
        "id": "aYRZ6gppErWF"
      },
      "execution_count": null,
      "outputs": []
    },
    {
      "cell_type": "code",
      "source": [
        "dt_y_pred = regressor.predict(X_test)"
      ],
      "metadata": {
        "id": "-BtkpEZGEteZ"
      },
      "execution_count": null,
      "outputs": []
    },
    {
      "cell_type": "code",
      "source": [
        "mean_absolute_error(y_test, dt_y_pred)\n"
      ],
      "metadata": {
        "id": "HmFB30i7EvL-"
      },
      "execution_count": null,
      "outputs": []
    },
    {
      "cell_type": "code",
      "source": [
        "mean_squared_error(y_test, dt_y_pred)\n"
      ],
      "metadata": {
        "id": "1Hwzv8iXE3Sg"
      },
      "execution_count": null,
      "outputs": []
    },
    {
      "cell_type": "code",
      "source": [
        "r2_score(y_test, dt_y_pred)"
      ],
      "metadata": {
        "id": "CMMaBECTE5JY"
      },
      "execution_count": null,
      "outputs": []
    },
    {
      "cell_type": "code",
      "source": [
        "from math import sqrt\n",
        "print(\"RMSE of DecisionTreeRegressor is \",sqrt(mean_squared_error(y_test, dt_y_pred)))"
      ],
      "metadata": {
        "id": "L_aVUGDsE73V"
      },
      "execution_count": null,
      "outputs": []
    },
    {
      "cell_type": "code",
      "source": [
        "plt.scatter(y_test, dt_y_pred,color='g')\n",
        "plt.title(\"Actual purchase vs Predicted Purchase\")\n",
        "plt.xlabel(\"Actual Purchase\")\n",
        "plt.ylabel(\"Predicted Purchase\")\n",
        "plt.show()\n",
        "plt.show()"
      ],
      "metadata": {
        "id": "3bHjwD-_MlfE"
      },
      "execution_count": null,
      "outputs": []
    },
    {
      "cell_type": "markdown",
      "source": [],
      "metadata": {
        "id": "8PB2M-YlBcg0"
      }
    },
    {
      "cell_type": "markdown",
      "source": [
        "##Random Forest Regressor"
      ],
      "metadata": {
        "id": "_1lITI01-zbK"
      }
    },
    {
      "cell_type": "code",
      "source": [
        "from sklearn.ensemble import RandomForestRegressor\n",
        "\n",
        "# creating a regressor object \n",
        "RFregressor = RandomForestRegressor(random_state = 0)"
      ],
      "metadata": {
        "id": "zT1vhOIb-1de"
      },
      "execution_count": null,
      "outputs": []
    },
    {
      "cell_type": "code",
      "source": [
        "RFregressor.fit(X_train, y_train)"
      ],
      "metadata": {
        "id": "LJsn22XC-2ts"
      },
      "execution_count": null,
      "outputs": []
    },
    {
      "cell_type": "code",
      "source": [
        "rf_y_pred = RFregressor.predict(X_test)"
      ],
      "metadata": {
        "id": "vAE_Uiuk-2qn"
      },
      "execution_count": null,
      "outputs": []
    },
    {
      "cell_type": "code",
      "source": [
        "mean_absolute_error(y_test, rf_y_pred)"
      ],
      "metadata": {
        "id": "X9l5JACa-2nv"
      },
      "execution_count": null,
      "outputs": []
    },
    {
      "cell_type": "code",
      "source": [
        "mean_squared_error(y_test, rf_y_pred)"
      ],
      "metadata": {
        "id": "p6t--AmX-2lH"
      },
      "execution_count": null,
      "outputs": []
    },
    {
      "cell_type": "code",
      "source": [
        "r2_score(y_test, rf_y_pred)"
      ],
      "metadata": {
        "id": "1QOwWOnG-2ic"
      },
      "execution_count": null,
      "outputs": []
    },
    {
      "cell_type": "code",
      "source": [
        "from math import sqrt\n",
        "print(\"RMSE of Random Forest Regressor is \",sqrt(mean_squared_error(y_test, rf_y_pred)))"
      ],
      "metadata": {
        "id": "5GiktMUJ-2fW"
      },
      "execution_count": null,
      "outputs": []
    },
    {
      "cell_type": "code",
      "source": [
        "plt.scatter(y_test, rf_y_pred,color='g')\n",
        "plt.title(\"Actual purchase vs Predicted Purchase\")\n",
        "plt.xlabel(\"Actual Purchase\")\n",
        "plt.ylabel(\"Predicted Purchase\")\n",
        "plt.show()\n",
        "plt.show()\n",
        "plt.show()\n"
      ],
      "metadata": {
        "id": "HNu0ZCiYMvTd"
      },
      "execution_count": null,
      "outputs": []
    },
    {
      "cell_type": "markdown",
      "source": [
        "##XGBoost Regressor\n"
      ],
      "metadata": {
        "id": "iY0B-jCW99ws"
      }
    },
    {
      "cell_type": "code",
      "source": [
        "from xgboost.sklearn import XGBRegressor"
      ],
      "metadata": {
        "id": "_pSaDbAW9_eU"
      },
      "execution_count": null,
      "outputs": []
    },
    {
      "cell_type": "code",
      "source": [
        "xgb_reg = XGBRegressor(learning_rate=1.0, max_depth=6, min_child_weight=40, seed=0)\n",
        "\n",
        "xgb_reg.fit(X_train, y_train)"
      ],
      "metadata": {
        "id": "FgKdD0Rk-HSX"
      },
      "execution_count": null,
      "outputs": []
    },
    {
      "cell_type": "code",
      "source": [
        "xgb_y_pred = xgb_reg.predict(X_test)"
      ],
      "metadata": {
        "id": "j9yfn1gN-L-y"
      },
      "execution_count": null,
      "outputs": []
    },
    {
      "cell_type": "code",
      "source": [
        "mean_absolute_error(y_test, xgb_y_pred)"
      ],
      "metadata": {
        "id": "aID_5Nb_-MkA"
      },
      "execution_count": null,
      "outputs": []
    },
    {
      "cell_type": "code",
      "source": [
        "mean_squared_error(y_test, xgb_y_pred)"
      ],
      "metadata": {
        "id": "jQf28e-U-P0f"
      },
      "execution_count": null,
      "outputs": []
    },
    {
      "cell_type": "code",
      "source": [
        "\n",
        "r2_score(y_test, xgb_y_pred)"
      ],
      "metadata": {
        "id": "5TFe2wP2-RGu"
      },
      "execution_count": null,
      "outputs": []
    },
    {
      "cell_type": "code",
      "source": [
        "from math import sqrt\n",
        "print(\"RMSE of XGBoost Regressor is \",sqrt(mean_squared_error(y_test, xgb_y_pred)))"
      ],
      "metadata": {
        "id": "dSI09zdg-Qwe"
      },
      "execution_count": null,
      "outputs": []
    },
    {
      "cell_type": "code",
      "source": [
        "plt.scatter(y_test, xgb_y_pred,color='g')\n",
        "plt.title(\"Actual purchase vs Predicted Purchase\")\n",
        "plt.xlabel(\"Actual Purchase\")\n",
        "plt.ylabel(\"Predicted Purchase\")\n",
        "plt.show()\n",
        "plt.show()\n",
        "plt.show()"
      ],
      "metadata": {
        "id": "Whs_lnKJNXQl"
      },
      "execution_count": null,
      "outputs": []
    }
  ]
}